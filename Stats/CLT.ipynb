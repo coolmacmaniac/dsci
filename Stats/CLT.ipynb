{
 "cells": [
  {
   "cell_type": "markdown",
   "metadata": {},
   "source": [
    "## Central Limit Theorem"
   ]
  },
  {
   "cell_type": "code",
   "execution_count": 53,
   "metadata": {},
   "outputs": [],
   "source": [
    "# !pip install ipywidgets\n",
    "\n",
    "# !pip install voila\n",
    "\n",
    "# !jupyter labextension list\n",
    "\n",
    "# !jupyter labextension install @jupyter-widgets/jupyterlab-manager"
   ]
  },
  {
   "cell_type": "code",
   "execution_count": 1,
   "metadata": {},
   "outputs": [],
   "source": [
    "import numpy as np\n",
    "import seaborn as sns\n",
    "import matplotlib.pyplot as plt\n",
    "\n",
    "from ipywidgets import widgets\n",
    "from IPython.display import display\n",
    "\n",
    "%matplotlib inline"
   ]
  },
  {
   "cell_type": "code",
   "execution_count": 2,
   "metadata": {},
   "outputs": [],
   "source": [
    "# distributions & parameters map\n",
    "pop_subset_size = 100000\n",
    "dist_param_map = (\n",
    "    # function           # properties                                            # name / title\n",
    "    ( np.random.gamma,   {'shape': 5.0, 'scale': 10.0, 'size': pop_subset_size}, 'Gamma'    ),\n",
    "    ( np.random.poisson, {'lam': 15.0, 'size': pop_subset_size},                 'Poisson'  ),\n",
    "    ( np.random.uniform, {'low': 5.0, 'high': 10.0, 'size': pop_subset_size},    'Uniform'  ),\n",
    "    ( np.random.normal,  {'loc': 5.0, 'scale': 1.0, 'size': pop_subset_size},    'Gaussian' )\n",
    ")"
   ]
  },
  {
   "cell_type": "code",
   "execution_count": 3,
   "metadata": {},
   "outputs": [],
   "source": [
    "sample_sizes = [10, 25, 100, 250]"
   ]
  },
  {
   "cell_type": "code",
   "execution_count": 4,
   "metadata": {},
   "outputs": [],
   "source": [
    "def replicate(times, func, *args):\n",
    "    if times <= 0:\n",
    "        times = 1\n",
    "    result = list()\n",
    "    for _ in range(times):\n",
    "        result.append(func(*args))\n",
    "    return result"
   ]
  },
  {
   "cell_type": "code",
   "execution_count": 5,
   "metadata": {},
   "outputs": [],
   "source": [
    "# sample with replacement => independent\n",
    "sample_mean = lambda *args: np.mean(np.random.choice(*args))"
   ]
  },
  {
   "cell_type": "code",
   "execution_count": 6,
   "metadata": {},
   "outputs": [],
   "source": [
    "# sample space distribution\n",
    "def plot_distribution_of_sample_space(samples, size, axis):\n",
    "    sns.histplot(\n",
    "        samples,\n",
    "        bins=30,\n",
    "        stat='density',\n",
    "        #kde=True,\n",
    "        color='orange',\n",
    "        edgecolor='white',\n",
    "        alpha=0.3,\n",
    "        ax=axis,\n",
    "        label=f'sample space size = {size}'\n",
    "    )\n",
    "    sns.kdeplot(\n",
    "        samples,\n",
    "        color='blueviolet',\n",
    "        lw=2,\n",
    "        ax=axis\n",
    "    )\n",
    "    #axis.legend(loc='best', prop={'size': 12})\n",
    "    axis.set_title(f'Sample space size = {size}')\n",
    "    axis.title.set_size(18)\n",
    "    axis.set_xlabel('Bins', fontsize=14)\n",
    "    axis.yaxis.label.set_size(14)\n"
   ]
  },
  {
   "cell_type": "code",
   "execution_count": 7,
   "metadata": {},
   "outputs": [],
   "source": [
    "# sampling distribution\n",
    "def plot_sampling_distribution_of_sample_means(statistic, size, axis):\n",
    "    sns.histplot(\n",
    "        statistic,\n",
    "        bins=30,\n",
    "        stat='density',\n",
    "        #kde=True,\n",
    "        color='darkgreen',\n",
    "        edgecolor='white',\n",
    "        alpha=0.3,\n",
    "        ax=axis,\n",
    "        label=f'sample size = {size}'\n",
    "    )\n",
    "    sns.kdeplot(\n",
    "        statistic,\n",
    "        color='darkblue',\n",
    "        lw=2,\n",
    "        ax=axis\n",
    "    )\n",
    "    #axis.legend(loc='best', prop={'size': 12})\n",
    "    axis.set_title(f'Sample size = {size}')\n",
    "    axis.title.set_size(18)\n",
    "    axis.set_xlabel('Bins', fontsize=14)\n",
    "    axis.yaxis.label.set_size(14)\n"
   ]
  },
  {
   "cell_type": "code",
   "execution_count": 8,
   "metadata": {},
   "outputs": [],
   "source": [
    "def update_clt_for_selected_distribution(index, output_layer):\n",
    "    # if all follow same distribution => identically distributed\n",
    "    dist_func, dist_kwargs, dist_name = dist_param_map[index]\n",
    "    sample_space = dist_func(**dist_kwargs)\n",
    "    \n",
    "    # repeat sample statistic calculation these many times\n",
    "    rep = 5000\n",
    "\n",
    "    with output_layer:\n",
    "        # clear previous output\n",
    "        output_layer.clear_output()\n",
    "        \n",
    "        # create subplot axes\n",
    "        sns.set_style('white')\n",
    "        fig, axes = plt.subplots(len(sample_sizes), 2, figsize=(7*2, 7*len(sample_sizes)))\n",
    "\n",
    "        # sample mean as the statistic for sampling distribution\n",
    "        plt_title = '\\n'.join([f'{dist_name} Distribution', 'sample size comparison'])\n",
    "        plt.suptitle(plt_title, y=0.9, verticalalignment='bottom', fontsize=20)\n",
    "        for axis, sample_size in zip(axes, sample_sizes):\n",
    "            sample_statistic = replicate(rep, sample_mean, sample_space, sample_size)\n",
    "            plot_distribution_of_sample_space(sample_space, pop_subset_size, axis[0])\n",
    "            plot_sampling_distribution_of_sample_means(sample_statistic, sample_size, axis[1])\n",
    "        \n",
    "        # show figure in output layer\n",
    "        plt.show(fig)"
   ]
  },
  {
   "cell_type": "code",
   "execution_count": 9,
   "metadata": {},
   "outputs": [],
   "source": [
    "# define the output plot layer\n",
    "output_plot = widgets.Output()\n",
    "\n",
    "# define the event handler\n",
    "def on_change(change):\n",
    "    if change['type'] == 'change' and change['name'] == 'value':\n",
    "        \n",
    "        # this print will print the selected value on log console (not below this cell as an output)\n",
    "        # print(f'Selection changed to {change[\"new\"]} at index {change[\"owner\"].index}')\n",
    "        \n",
    "        # adjust offset for additional hint option\n",
    "        idx = change[\"owner\"].index\n",
    "        if idx > 0:\n",
    "            idx -= 1\n",
    "            update_clt_for_selected_distribution(idx, output_plot)\n",
    "        else:\n",
    "            output_plot.clear_output()\n",
    "\n",
    "# create the dropdown and render it\n",
    "def render_distribution_selection_dropdown():\n",
    "    # get the distribution names from their map\n",
    "    dist_names = [tup[2] for tup in dist_param_map]\n",
    "\n",
    "    # add the additional option for selection hint\n",
    "    dist_names.insert(0, 'Make a selection')\n",
    "\n",
    "    # create the drop down with distribution names\n",
    "    dd_dist = widgets.Dropdown(\n",
    "        options=dist_names,\n",
    "        index=0,\n",
    "        description='Distribution:',\n",
    "        disabled=False\n",
    "    )\n",
    "\n",
    "    # attach the event handler\n",
    "    dd_dist.observe(on_change)\n",
    "\n",
    "    # render\n",
    "    display(dd_dist)\n",
    "    output_plot.clear_output()\n",
    "    display(output_plot)\n",
    "    "
   ]
  },
  {
   "cell_type": "markdown",
   "metadata": {},
   "source": [
    "---"
   ]
  },
  {
   "cell_type": "code",
   "execution_count": 10,
   "metadata": {},
   "outputs": [
    {
     "data": {
      "application/vnd.jupyter.widget-view+json": {
       "model_id": "06beae3067c8447c8814e0aee2d4c8c1",
       "version_major": 2,
       "version_minor": 0
      },
      "text/plain": [
       "Dropdown(description='Distribution:', options=('Make a selection', 'Gamma', 'Poisson', 'Uniform', 'Gaussian'),…"
      ]
     },
     "metadata": {},
     "output_type": "display_data"
    },
    {
     "data": {
      "application/vnd.jupyter.widget-view+json": {
       "model_id": "a28f300c557e4df598fb3d725c5f43fe",
       "version_major": 2,
       "version_minor": 0
      },
      "text/plain": [
       "Output()"
      ]
     },
     "metadata": {},
     "output_type": "display_data"
    }
   ],
   "source": [
    "render_distribution_selection_dropdown()"
   ]
  },
  {
   "cell_type": "markdown",
   "metadata": {},
   "source": [
    "---"
   ]
  }
 ],
 "metadata": {
  "kernelspec": {
   "display_name": "AAI",
   "language": "python",
   "name": "aai"
  },
  "language_info": {
   "codemirror_mode": {
    "name": "ipython",
    "version": 3
   },
   "file_extension": ".py",
   "mimetype": "text/x-python",
   "name": "python",
   "nbconvert_exporter": "python",
   "pygments_lexer": "ipython3",
   "version": "3.8.6"
  }
 },
 "nbformat": 4,
 "nbformat_minor": 4
}
